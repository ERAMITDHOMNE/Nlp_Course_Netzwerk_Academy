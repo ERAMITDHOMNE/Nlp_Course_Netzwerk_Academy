{
  "nbformat": 4,
  "nbformat_minor": 0,
  "metadata": {
    "colab": {
      "name": "A Tour of TextBlob.ipynb",
      "provenance": []
    },
    "kernelspec": {
      "name": "python3",
      "display_name": "Python 3"
    }
  },
  "cells": [
    {
      "cell_type": "markdown",
      "metadata": {
        "id": "_46a9YIp5Xpi",
        "colab_type": "text"
      },
      "source": [
        "# A Tour of TextBlob"
      ]
    },
    {
      "cell_type": "code",
      "metadata": {
        "id": "c-SjEgDo5Xpj",
        "colab_type": "code",
        "colab": {
          "base_uri": "https://localhost:8080/",
          "height": 69
        },
        "outputId": "88aa8912-b822-4f9d-d8bb-558f8986e659"
      },
      "source": [
        " !pip3 install textblob  # like NLTK ,Spacy Textblob is another library tool in nlp ,!pip install textblob"
      ],
      "execution_count": null,
      "outputs": [
        {
          "output_type": "stream",
          "text": [
            "Requirement already satisfied: textblob in /usr/local/lib/python3.6/dist-packages (0.15.3)\n",
            "Requirement already satisfied: nltk>=3.1 in /usr/local/lib/python3.6/dist-packages (from textblob) (3.2.5)\n",
            "Requirement already satisfied: six in /usr/local/lib/python3.6/dist-packages (from nltk>=3.1->textblob) (1.12.0)\n"
          ],
          "name": "stdout"
        }
      ]
    },
    {
      "cell_type": "code",
      "metadata": {
        "id": "ePfKfuWa5hPQ",
        "colab_type": "code",
        "colab": {
          "base_uri": "https://localhost:8080/",
          "height": 69
        },
        "outputId": "d4a5801a-d560-4ff9-955a-fda5c64853cc"
      },
      "source": [
        "!pip install textblob      #for installation # python 2.7 ,3.2\n",
        "\n",
        "import textblob            #to import\n",
        "from textblob import TextBlob"
      ],
      "execution_count": null,
      "outputs": [
        {
          "output_type": "stream",
          "text": [
            "Requirement already satisfied: textblob in /usr/local/lib/python3.6/dist-packages (0.15.3)\n",
            "Requirement already satisfied: nltk>=3.1 in /usr/local/lib/python3.6/dist-packages (from textblob) (3.2.5)\n",
            "Requirement already satisfied: six in /usr/local/lib/python3.6/dist-packages (from nltk>=3.1->textblob) (1.12.0)\n"
          ],
          "name": "stdout"
        }
      ]
    },
    {
      "cell_type": "code",
      "metadata": {
        "id": "fwVcevt85Xpn",
        "colab_type": "code",
        "colab": {}
      },
      "source": [
        "text = \"TextBlob and Ipython Notebook make a perfect match I am NLP trainer all the student of Netzwerk academy are inetlligents specially of NLP classs.\"\n",
        "blob = TextBlob(text)"
      ],
      "execution_count": null,
      "outputs": []
    },
    {
      "cell_type": "markdown",
      "metadata": {
        "id": "YKqZRYQ55Xpu",
        "colab_type": "text"
      },
      "source": [
        "Now let's see the magic."
      ]
    },
    {
      "cell_type": "code",
      "metadata": {
        "id": "djEkk77u5Xpv",
        "colab_type": "code",
        "colab": {
          "base_uri": "https://localhost:8080/",
          "height": 572
        },
        "outputId": "8313d977-3b7a-4458-cb6d-d321756436ac"
      },
      "source": [
        "!pip install nltk # part of speech (pos) telling noun,verb,preposition english \n",
        "import nltk\n",
        "nltk.download('punkt') # dependency issue that is why I used NLTk also\n",
        "nltk.download('averaged_perceptron_tagger')\n",
        "blob.tags"
      ],
      "execution_count": null,
      "outputs": [
        {
          "output_type": "stream",
          "text": [
            "Requirement already satisfied: nltk in /usr/local/lib/python3.6/dist-packages (3.2.5)\n",
            "Requirement already satisfied: six in /usr/local/lib/python3.6/dist-packages (from nltk) (1.12.0)\n",
            "[nltk_data] Downloading package punkt to /root/nltk_data...\n",
            "[nltk_data]   Package punkt is already up-to-date!\n",
            "[nltk_data] Downloading package averaged_perceptron_tagger to\n",
            "[nltk_data]     /root/nltk_data...\n",
            "[nltk_data]   Package averaged_perceptron_tagger is already up-to-\n",
            "[nltk_data]       date!\n"
          ],
          "name": "stdout"
        },
        {
          "output_type": "execute_result",
          "data": {
            "text/plain": [
              "[('TextBlob', 'NNP'),\n",
              " ('and', 'CC'),\n",
              " ('Ipython', 'NNP'),\n",
              " ('Notebook', 'NNP'),\n",
              " ('make', 'VBP'),\n",
              " ('a', 'DT'),\n",
              " ('perfect', 'JJ'),\n",
              " ('match', 'NN'),\n",
              " ('I', 'PRP'),\n",
              " ('am', 'VBP'),\n",
              " ('NLP', 'JJ'),\n",
              " ('trainer', 'NN'),\n",
              " ('all', 'PDT'),\n",
              " ('the', 'DT'),\n",
              " ('student', 'NN'),\n",
              " ('of', 'IN'),\n",
              " ('Netzwerk', 'NNP'),\n",
              " ('academy', 'NN'),\n",
              " ('are', 'VBP'),\n",
              " ('inetlligents', 'NNS'),\n",
              " ('specially', 'RB'),\n",
              " ('of', 'IN'),\n",
              " ('NLP', 'NNP'),\n",
              " ('classs', 'NN')]"
            ]
          },
          "metadata": {
            "tags": []
          },
          "execution_count": 25
        }
      ]
    },
    {
      "cell_type": "code",
      "metadata": {
        "id": "LMG5xMvm5Xpz",
        "colab_type": "code",
        "colab": {
          "base_uri": "https://localhost:8080/",
          "height": 69
        },
        "outputId": "1f181164-387c-4d7d-b0c3-9c743db0e7c4"
      },
      "source": [
        "nltk.download('brown')\n",
        "blob.noun_phrases"
      ],
      "execution_count": null,
      "outputs": [
        {
          "output_type": "stream",
          "text": [
            "[nltk_data] Downloading package brown to /root/nltk_data...\n",
            "[nltk_data]   Package brown is already up-to-date!\n"
          ],
          "name": "stdout"
        },
        {
          "output_type": "execute_result",
          "data": {
            "text/plain": [
              "WordList(['textblob', 'ipython notebook', 'nlp', 'netzwerk', 'nlp'])"
            ]
          },
          "metadata": {
            "tags": []
          },
          "execution_count": 26
        }
      ]
    },
    {
      "cell_type": "code",
      "metadata": {
        "id": "wAs_5aqx5Xp2",
        "colab_type": "code",
        "colab": {
          "base_uri": "https://localhost:8080/",
          "height": 35
        },
        "outputId": "1bcaeb34-d843-4882-a7a7-e403ea8d1295"
      },
      "source": [
        "blob.sentiment"
      ],
      "execution_count": null,
      "outputs": [
        {
          "output_type": "execute_result",
          "data": {
            "text/plain": [
              "Sentiment(polarity=0.6785714285714286, subjectivity=0.7857142857142857)"
            ]
          },
          "metadata": {
            "tags": []
          },
          "execution_count": 28
        }
      ]
    },
    {
      "cell_type": "code",
      "metadata": {
        "id": "PFrhjFvR5Xp6",
        "colab_type": "code",
        "colab": {}
      },
      "source": [
        "blob = TextBlob(\"I had a great time last night. The beer was good. But the hangover was horrible.\")"
      ],
      "execution_count": null,
      "outputs": []
    },
    {
      "cell_type": "code",
      "metadata": {
        "id": "B-2mDs4c5XqA",
        "colab_type": "code",
        "colab": {
          "base_uri": "https://localhost:8080/",
          "height": 35
        },
        "outputId": "f1cbd5b0-6da0-44aa-ffb1-7e6c88c1a175"
      },
      "source": [
        "blob.words"
      ],
      "execution_count": null,
      "outputs": [
        {
          "output_type": "execute_result",
          "data": {
            "text/plain": [
              "WordList(['I', 'had', 'a', 'great', 'time', 'last', 'night', 'The', 'beer', 'was', 'good', 'But', 'the', 'hangover', 'was', 'horrible'])"
            ]
          },
          "metadata": {
            "tags": []
          },
          "execution_count": 30
        }
      ]
    },
    {
      "cell_type": "code",
      "metadata": {
        "id": "MkEPdPK45XqD",
        "colab_type": "code",
        "colab": {
          "base_uri": "https://localhost:8080/",
          "height": 69
        },
        "outputId": "9acc5dc4-bad3-40be-bc31-e54c24bde327"
      },
      "source": [
        "blob.sentences"
      ],
      "execution_count": null,
      "outputs": [
        {
          "output_type": "execute_result",
          "data": {
            "text/plain": [
              "[Sentence(\"I had a great time last night.\"),\n",
              " Sentence(\"The beer was good.\"),\n",
              " Sentence(\"But the hangover was horrible.\")]"
            ]
          },
          "metadata": {
            "tags": []
          },
          "execution_count": 31
        }
      ]
    },
    {
      "cell_type": "code",
      "metadata": {
        "id": "GaH_UTwP6yxt",
        "colab_type": "code",
        "colab": {}
      },
      "source": [
        "#subjectivity refers to expression of opinions, evaluations, feelings, and speculations (Banfield, 1982; Wiebe, 1994) and thus incorporates sentiment"
      ],
      "execution_count": null,
      "outputs": []
    },
    {
      "cell_type": "code",
      "metadata": {
        "id": "DwoKskVV62q2",
        "colab_type": "code",
        "colab": {}
      },
      "source": [
        "#Polarity in sentiment analysis refers to identifying sentiment orientation (positive, neutral, and negative) in written or spoken language. ... Subjective expressions are opinions that describe people's feelings towards a specific subject or topic."
      ],
      "execution_count": null,
      "outputs": []
    },
    {
      "cell_type": "code",
      "metadata": {
        "id": "FiOjBGx15XqG",
        "colab_type": "code",
        "colab": {
          "base_uri": "https://localhost:8080/",
          "height": 121
        },
        "outputId": "fd1d2035-fb9c-48d2-c484-f290938d7787"
      },
      "source": [
        "for s in blob.sentences:\n",
        "    print(s)\n",
        "    print(s.sentiment)"
      ],
      "execution_count": null,
      "outputs": [
        {
          "output_type": "stream",
          "text": [
            "I had a great time last night.\n",
            "Sentiment(polarity=0.4, subjectivity=0.4083333333333333)\n",
            "The beer was good.\n",
            "Sentiment(polarity=0.7, subjectivity=0.6000000000000001)\n",
            "But the hangover was horrible.\n",
            "Sentiment(polarity=-1.0, subjectivity=1.0)\n"
          ],
          "name": "stdout"
        }
      ]
    },
    {
      "cell_type": "code",
      "metadata": {
        "id": "H-z1xcKD5XqJ",
        "colab_type": "code",
        "colab": {
          "base_uri": "https://localhost:8080/",
          "height": 35
        },
        "outputId": "08ea939e-9f2d-4ae9-fd6e-34050a9700a5"
      },
      "source": [
        "blob.translate(to=\"it\")"
      ],
      "execution_count": null,
      "outputs": [
        {
          "output_type": "execute_result",
          "data": {
            "text/plain": [
              "TextBlob(\"Mi sono divertito moltissimo ieri sera. La birra era buona Ma i postumi di una sbornia erano orribili.\")"
            ]
          },
          "metadata": {
            "tags": []
          },
          "execution_count": 19
        }
      ]
    },
    {
      "cell_type": "code",
      "metadata": {
        "id": "kcmaFJ_x5XqN",
        "colab_type": "code",
        "colab": {
          "base_uri": "https://localhost:8080/",
          "height": 35
        },
        "outputId": "dddabc3b-9b07-458e-86c2-1c0a304c8447"
      },
      "source": [
        "blob.words.count(\"was\")"
      ],
      "execution_count": null,
      "outputs": [
        {
          "output_type": "execute_result",
          "data": {
            "text/plain": [
              "2"
            ]
          },
          "metadata": {
            "tags": []
          },
          "execution_count": 20
        }
      ]
    },
    {
      "cell_type": "code",
      "metadata": {
        "id": "i76I-mU45XqQ",
        "colab_type": "code",
        "colab": {}
      },
      "source": [
        ""
      ],
      "execution_count": null,
      "outputs": []
    }
  ]
}