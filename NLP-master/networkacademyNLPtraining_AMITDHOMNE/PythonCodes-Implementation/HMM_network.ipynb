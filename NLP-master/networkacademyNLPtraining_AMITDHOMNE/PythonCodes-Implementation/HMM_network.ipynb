{
  "nbformat": 4,
  "nbformat_minor": 0,
  "metadata": {
    "colab": {
      "name": "Untitled49.ipynb",
      "provenance": []
    },
    "kernelspec": {
      "name": "python3",
      "display_name": "Python 3"
    }
  },
  "cells": [
    {
      "cell_type": "code",
      "metadata": {
        "id": "E0UP9y8dNc3G",
        "colab_type": "code",
        "colab": {
          "base_uri": "https://localhost:8080/",
          "height": 592
        },
        "outputId": "8eec7d65-ba16-468e-ca0e-a62e9d58feb7"
      },
      "source": [
        "# Program to draw edges and show transition probability between hidden states\n",
        "# AIM = to draw network between different states\n",
        "import numpy as np\n",
        "import pandas as pd\n",
        "import networkx as nx\n",
        "import matplotlib.pyplot as plt\n",
        "\n",
        "# create state space and initial state probabilities\n",
        "\n",
        "states = ['sleeping', 'eating', 'Reading']  # given Hidden state \n",
        "pi = [0.35, 0.45, 0.2] # given Intial probability \n",
        "state_space = pd.Series(pi, index=states, name='states')\n",
        "print(state_space)\n",
        "print(state_space.sum())\n",
        "\n",
        "\n",
        "# create transition matrix\n",
        "# equals transition probability matrix of changing states given a state\n",
        "# matrix is size (M x M) where M is number of states\n",
        "\n",
        "q_df = pd.DataFrame(columns=states, index=states)\n",
        "q_df.loc[states[0]] = [0.4, 0.2, 0.4]\n",
        "q_df.loc[states[1]] = [0.45, 0.45, 0.1]\n",
        "q_df.loc[states[2]] = [0.45, 0.25, .3]\n",
        "\n",
        "print(q_df)\n",
        "\n",
        "q = q_df.values # values of transition probability\n",
        "print('\\n', q, q.shape, '\\n')\n",
        "print(q_df.sum(axis=1))\n",
        "\n",
        "\n",
        "from pprint import pprint \n",
        "# create a function that maps transition probability dataframe \n",
        "# to markov edges and weights\n",
        "\n",
        "def _get_markov_edges(Q):\n",
        "    edges = {} # empty tuple\n",
        "    for col in Q.columns:\n",
        "        for idx in Q.index:\n",
        "            edges[(idx,col)] = Q.loc[idx,col]\n",
        "    return edges\n",
        "\n",
        "edges_wts = _get_markov_edges(q_df)\n",
        "pprint(edges_wts)\n",
        "\n",
        "\n",
        "# create graph object\n",
        "G = nx.MultiDiGraph()\n",
        "\n",
        "# nodes correspond to states\n",
        "G.add_nodes_from(states)\n",
        "print(f'Nodes:\\n{G.nodes()}\\n')\n",
        "\n",
        "# edges represent transition probabilities\n",
        "for k, v in edges_wts.items():\n",
        "    tmp_origin, tmp_destination = k[0], k[1]\n",
        "    G.add_edge(tmp_origin, tmp_destination, weight=v, label=v)\n",
        "print(f'Edges:')\n",
        "pprint(G.edges(data=True))   "
      ],
      "execution_count": 5,
      "outputs": [
        {
          "output_type": "stream",
          "text": [
            "sleeping    0.35\n",
            "eating      0.45\n",
            "Reading     0.20\n",
            "Name: states, dtype: float64\n",
            "1.0\n",
            "         sleeping eating Reading\n",
            "sleeping      0.4    0.2     0.4\n",
            "eating       0.45   0.45     0.1\n",
            "Reading      0.45   0.25     0.3\n",
            "\n",
            " [[0.4 0.2 0.4]\n",
            " [0.45 0.45 0.1]\n",
            " [0.45 0.25 0.3]] (3, 3) \n",
            "\n",
            "sleeping    1.0\n",
            "eating      1.0\n",
            "Reading     1.0\n",
            "dtype: float64\n",
            "{('Reading', 'Reading'): 0.3,\n",
            " ('Reading', 'eating'): 0.25,\n",
            " ('Reading', 'sleeping'): 0.45,\n",
            " ('eating', 'Reading'): 0.1,\n",
            " ('eating', 'eating'): 0.45,\n",
            " ('eating', 'sleeping'): 0.45,\n",
            " ('sleeping', 'Reading'): 0.4,\n",
            " ('sleeping', 'eating'): 0.2,\n",
            " ('sleeping', 'sleeping'): 0.4}\n",
            "Nodes:\n",
            "['sleeping', 'eating', 'Reading']\n",
            "\n",
            "Edges:\n",
            "OutMultiEdgeDataView([('sleeping', 'sleeping', {'weight': 0.4, 'label': 0.4}), ('sleeping', 'eating', {'weight': 0.2, 'label': 0.2}), ('sleeping', 'Reading', {'weight': 0.4, 'label': 0.4}), ('eating', 'sleeping', {'weight': 0.45, 'label': 0.45}), ('eating', 'eating', {'weight': 0.45, 'label': 0.45}), ('eating', 'Reading', {'weight': 0.1, 'label': 0.1}), ('Reading', 'sleeping', {'weight': 0.45, 'label': 0.45}), ('Reading', 'eating', {'weight': 0.25, 'label': 0.25}), ('Reading', 'Reading', {'weight': 0.3, 'label': 0.3})])\n"
          ],
          "name": "stdout"
        }
      ]
    },
    {
      "cell_type": "code",
      "metadata": {
        "id": "S4jHa8V6cPVt",
        "colab_type": "code",
        "colab": {}
      },
      "source": [
        "G.add_nodes_from(states)"
      ],
      "execution_count": 7,
      "outputs": []
    },
    {
      "cell_type": "code",
      "metadata": {
        "id": "CbEIlSZkcXA_",
        "colab_type": "code",
        "colab": {
          "base_uri": "https://localhost:8080/",
          "height": 69
        },
        "outputId": "dc4c3f2a-18c6-486e-abc4-35b4343acf59"
      },
      "source": [
        "print(f'Nodes:\\n{G.nodes()}\\n')"
      ],
      "execution_count": 8,
      "outputs": [
        {
          "output_type": "stream",
          "text": [
            "Nodes:\n",
            "['sleeping', 'eating', 'Reading']\n",
            "\n"
          ],
          "name": "stdout"
        }
      ]
    }
  ]
}